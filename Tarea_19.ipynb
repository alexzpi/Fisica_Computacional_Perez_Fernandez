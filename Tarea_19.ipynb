{
 "cells": [
  {
   "cell_type": "markdown",
   "metadata": {},
   "source": [
    "__Ejercicio1__: Escriba la forma del operador laplaciano utilizando diferencias finitas simétricas. Es decir, discretice: $\\nabla^2=\\frac{\\partial^2 f}{\\partial x^2}+\\frac{\\partial^2 f}{\\partial y^2}+\\frac{\\partial^2 f}{\\partial z^2}.$"
   ]
  },
  {
   "cell_type": "markdown",
   "metadata": {},
   "source": [
    "Sabemos que, dada una función de una variable, digamos f(x), la derivada simétrica de $f$ con diferencias finitas se escribe como:\n",
    "$$f'(x)=\\frac{f(x+h)-f(x-h)}{2h}.$$\n",
    "\n",
    "Si sustituimos $h$ por $h/2$ (para obtener un resultado más simple) y volvemos a aplicar la derivada simétrica, obtenemos que:\n",
    "$$f''(x)=\\frac{f'(x+h/2)-f'(x-h/2)}{h}$$\n",
    "$$=\\frac{1}{h} \\left( \\frac{f(x+h)-f(x)}{h}-\\frac{f(x)-f(x-h)}{h}\\right)$$\n",
    "\n",
    "Por lo tanto,\n",
    "$$f''(x)=\\frac{f(x+h)-2f(x)+f(x-h)}{h^2}.$$\n",
    "\n",
    "De forma análoga, si $f$ es una función de $x$, $y$ y $z$, entonces\n",
    "$$\\frac{\\partial^{2} f}{\\partial x^{2}}=\\frac{f(x+h,y,z)-2f(x,y,z)+f(x-h,y,z)}{h^2}$$\n",
    "$$\\frac{\\partial^{2} f}{\\partial y^{2}}=\\frac{f(x,y+h,z)-2f(x,y,z)+f(x,y-h,z)}{h^2}$$\n",
    "$$\\frac{\\partial^{2} f}{\\partial z^{2}}=\\frac{f(x,y,z+h)-2f(x,y,z)+f(x,y,z-h)}{h^2}$$\n",
    "\n",
    "Como $\\nabla^{2}f=\\frac{\\partial^{2} f}{\\partial x^{2}}+\\frac{\\partial^{2} f}{\\partial y^{2}}+\\frac{\\partial^{2} f}{\\partial z^{2}}$, entonces:\n",
    "$$\\nabla^{2}f= \\frac{f(x+h,y,z)+ f(x-h,y,z)+f(x,y+h,z)+f(x,y-h,z)+f(x,y,z+h)+f(x,y,z-h)-6f(x,y,z)}{h^{2}}$$"
   ]
  },
  {
   "cell_type": "markdown",
   "metadata": {},
   "source": [
    "__Ejercicio 2 (condiciones a la frontera de Dirichlet)__. Discretice la ecuación \n",
    "$$ \\frac{d^2f}{dx^2}=0 $$\n",
    "en el intervalo $[0,1]$, y aplicando el operador laplaciano discretizado obtenga el sistema de ecuaciones algebraicas lineales correspondientes al problema de _Dirichlet_:\n",
    "$f(0) = a$ y $f(1) = b$ dividiendo el intervalo $[0,1]$ en $5$ puntos separados por $h$."
   ]
  },
  {
   "cell_type": "markdown",
   "metadata": {},
   "source": [
    "En este caso tenemos que $f$ sólo depende de $x$, por lo que usaremos que $\\frac{d^{2}f}{dx^{2}}=\\frac{f(x+h)-2f(x)+f(x-h)}{h^2}.$\n",
    "\n",
    "Dividiendo el intervalo $[0,1]$ en 5 puntos obtenemos\n",
    "\\begin{eqnarray}\n",
    "x_{1}&=&0\\\\\n",
    "x_{2}&=&0.25\\\\\n",
    "x_{3}&=&0.5\\\\\n",
    "x_{4}&=&0.75\\\\\n",
    "x_{5}&=&1\\\\\n",
    "\\end{eqnarray}\n",
    "\n",
    "Es decir que $h=0.25.$ Usaremos la notación $f_{i}=f(x_{i})$, para $i=1,2,3,4,5.$ Dado que $x_{i+1}=x_{i}+h$, entonces podemos escribir la ecuación dada como\n",
    "\n",
    "$$\\frac{f_{i+1}-2f_{i}+f_{i-1}}{h^{2}}=0.$$\n",
    "\n",
    "Para $i=2$ tenemos que\n",
    "$$f_{3}-2f_{2}+f_{1}=0,$$\n",
    "pero $f_{1}=f(x_{1})=f(0)=a$, entonces se tiene que\n",
    "$$f_{3}-2f_{2}+a=0.$$\n",
    "\n",
    "Haciendo lo mismo para $i=3,4$ se obtiene el siguiente sistema de ecuaciones:\n",
    "\n",
    "\\begin{eqnarray}\n",
    "f_{3}-2f_{2}+a&=&0\\\\\n",
    "f_{4}-2f_{3}+f_{2}&=&0\\\\\n",
    "-2f_{4}+f_{3}+b&=&0\\\\\n",
    "\\end{eqnarray}"
   ]
  },
  {
   "cell_type": "markdown",
   "metadata": {},
   "source": [
    "__Ejercicio 3 (condiciones a la frontera de Neumann)__. Hacer lo mismo para condiciones de _Neumann_, es decir, fijando en los extremos el valor de la primera derivada de la función. Para esto utilice la derivada _hacia adeltante_ en las orillas, es decir, si $f'(0)=a$ y $f'(1)=b$, entonces $(f_1-f_0)/h=a$, etc. No olvide que debe resultar un sistema de ecuación cuya dimensión sea el número de incognitas."
   ]
  },
  {
   "cell_type": "markdown",
   "metadata": {},
   "source": [
    "Empezamos en el extremo $x_{1}=0$.\n",
    "Usando la derivada hacia adeltante, vemos que\n",
    "$$f'(0)=f'(x_{1})=\\frac{f(x_{1}+h)-f(x_{1})}{h}=\\frac{f_{2}-f_{1}}{h}$$\n",
    "\n",
    "Pero $f'(0)=a$, entonces tenemos que\n",
    "$$f_{2}-f_{1}-ah=0$$\n",
    "\n",
    "Ahora usamos que $\\frac{f_{i+1}-2f_{i}+f_{i-1}}{h^{2}}=0$, para i=2,3,4.\n",
    "\n",
    "$$\\implies$$\n",
    "\\begin{eqnarray}\n",
    "f_{3}-2f_{2}+f_{1}&=&0\\\\\n",
    "f_{4}-2f_{3}+f_{2}&=&0\\\\\n",
    "f_{5}-2f_{4}+f_{3}&=&0\n",
    "\\end{eqnarray}\n",
    "\n",
    "Finalmente, en la otra orilla usamos la derivada hacia atrás\n",
    "\n",
    "$$f'(1)=f'(x_{5})=\\frac{f(x_{5})-f(x_{5}-h)}{h}=\\frac{f_{5}-f_{4}}{h}.$$\n",
    "\n",
    "Como $f'(1)=b$, entonces $$f_{5}-f_{4}-bh=0.$$\n",
    "\n",
    "Por lo tanto, el sistema de ecuaciones completo es:\n",
    "\\begin{eqnarray}\n",
    "f_{2}-f_{1}-ah&=&0\\\\\n",
    "f_{3}-2f_{2}+f_{1}&=&0\\\\\n",
    "f_{4}-2f_{3}+f_{2}&=&0\\\\\n",
    "f_{5}-2f_{4}+f_{3}&=&0\\\\\n",
    "f_{5}-f_{4}-bh&=&0\n",
    "\\end{eqnarray}"
   ]
  },
  {
   "cell_type": "markdown",
   "metadata": {},
   "source": [
    "__Ejercicio 4 (indexación)__. `Julia` es más eficiente\n",
    "si se utiliza un único índice para acceder a los elementos\n",
    "de una matriz, además que puede simplificar algunos problemas. Escribe una función $\\phi$ que traduzca un par de\n",
    "índices $i,j$ a un único índice $k$, es decir:\n",
    "$$\\phi: (i,j) \\mapsto k.$$\n",
    "También encuentren $\\phi^{-1}$. Note que $\\phi$ deberá depender de las dimensiones del arreglo, por lo menos de una de ellas."
   ]
  },
  {
   "cell_type": "markdown",
   "metadata": {},
   "source": [
    "Consideremos una matriz $A$ de $n\\times m$. En particular, podemos pedir una $\\phi$ tal que el índice cuente las entradas de izquierda a derecha y de arriba hacia abajo.\n",
    "\n",
    "Promonemos $\\phi$ tal que $$k=(i-1)m+j.$$\n",
    "\n",
    "Para una $i$ dada, el mínimo valor de $j$ será $1$ y el máximo será $m$. Así, para cada $i$, $k$ tomará los posibles valores entre $k=(i-1)m+1$ y $k=im$, entonces \n",
    "$$i=\\lceil k/m \\rceil.$$\n",
    "\n",
    "Si ahora despejamos $j$, vemos que \n",
    "$$j=k-(i-1)m.$$\n",
    "Susitytendo el valor de $i$, vemos que \n",
    "$$j=k-(\\lceil k/m \\rceil-1)m=k+(1-\\lceil k/m \\rceil)m.$$\n",
    "\n",
    "Por lo tanto:\n",
    "\n",
    "$$\\phi^{-1}: k \\mapsto (i= \\lceil k/m \\rceil,\\ j=k+(1-\\lceil k/m \\rceil)m).$$\n",
    "\n",
    "Veamos un ejemplo, consideremos una matriz $A$ de $2\\times3$. Según nuestra definición,\n",
    "\n",
    "$$\\phi(1,1)=(1-1)3+1=1$$\n",
    "$$\\phi(1,2)=(1-1)3+2=2$$\n",
    "$$\\phi(1,3)=(1-1)3+3=3$$\n",
    "$$\\phi(2,1)=(2-1)3+1=4$$\n",
    "$$\\phi(2,2)=(2-1)3+2=5$$\n",
    "$$\\phi(2,3)=(2-1)3+3=6$$\n",
    "\n",
    "De igual forma,\n",
    "\n",
    "$$\\phi^{-1}(1)=(\\lceil 1/3 \\rceil,\\ 1+(1-\\lceil 1/3 \\rceil)3 )=(1,1)$$\n",
    "$$\\phi^{-1}(2)=(\\lceil 2/3 \\rceil,\\ 2+(1-\\lceil 2/3 \\rceil)3 )=(1,2)$$\n",
    "$$\\phi^{-1}(3)=(\\lceil 3/3 \\rceil,\\ 3+(1-\\lceil 3/3 \\rceil)3 )=(1,3)$$\n",
    "$$\\phi^{-1}(4)=(\\lceil 4/3 \\rceil,\\ 4+(1-\\lceil 4/3 \\rceil)3 )=(2,1)$$\n",
    "$$\\phi^{-1}(5)=(\\lceil 5/3 \\rceil,\\ 5+(1-\\lceil 5/3 \\rceil)3 )=(2,2)$$\n",
    "$$\\phi^{-1}(6)=(\\lceil 6/3 \\rceil,\\ 6+(1-\\lceil 6/3 \\rceil)3 )=(2,3)$$"
   ]
  }
 ],
 "metadata": {
  "kernelspec": {
   "display_name": "Julia 0.5.2",
   "language": "julia",
   "name": "julia-0.5"
  },
  "language_info": {
   "file_extension": ".jl",
   "mimetype": "application/julia",
   "name": "julia",
   "version": "0.5.2"
  }
 },
 "nbformat": 4,
 "nbformat_minor": 2
}
