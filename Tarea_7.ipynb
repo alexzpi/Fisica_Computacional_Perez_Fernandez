{
 "cells": [
  {
   "cell_type": "markdown",
   "metadata": {},
   "source": [
    "### Ejercicio 3. Método de Simpson"
   ]
  },
  {
   "cell_type": "code",
   "execution_count": 1,
   "metadata": {
    "collapsed": false
   },
   "outputs": [],
   "source": [
    "#Creamos la función simpson(f,a,b,e), donde f es la función dada, a y b son los extremos de integración y e es la longitud deseada para los subintervalos\n",
    "function simpson(f,a,b,e)\n",
    "    #Si e es la longitud deseada para los subintervalos, entonces el número de subintervalos será (b-a)/e para asegurar que sea entero usamos round() (como se muestra abajo), pero entonces el número de elementos en nuestra partición tiene que ser el número anterior más uno, de esta forma definimos h\n",
    "    h=1+round((b-a)/e)\n",
    "   #Definimos la lista de h elementos de \"a\" a \"b\" \n",
    "    list=linspace(a,b,h)\n",
    "    #Definimos nuestro valor inicial\n",
    "    int=0\n",
    "    #El for es para ir sumando la contribución de cada intervalo a la integral\n",
    "    for i in 2:length(list)\n",
    "        #A int le vamos sumando el área debajo de cada parábola.\n",
    "        \n",
    "        int=int+((list[i]-list[i-1])/6)*(f(list[i-1])+4*f((list[i]+list[i-1])/2)+f(list[i]))\n",
    "        \n",
    "    end\n",
    "        \n",
    "    #La función regresa el valor de la integral\n",
    "    return int    \n",
    "end;"
   ]
  },
  {
   "cell_type": "markdown",
   "metadata": {},
   "source": [
    "Ejemplos.\n",
    "\n",
    "Consideremos las funciones $f(x)=x^5$ y $g(x)=e^{-3x}$"
   ]
  },
  {
   "cell_type": "code",
   "execution_count": 2,
   "metadata": {
    "collapsed": false
   },
   "outputs": [],
   "source": [
    "#Definimos las funciones\n",
    "f(x)=x^5;\n",
    "g(x)=e^(-3x);"
   ]
  },
  {
   "cell_type": "code",
   "execution_count": 3,
   "metadata": {
    "collapsed": false
   },
   "outputs": [
    {
     "data": {
      "text/plain": [
       "165983.9999999998"
      ]
     },
     "execution_count": 3,
     "metadata": {},
     "output_type": "execute_result"
    }
   ],
   "source": [
    "#Probamos el método para f\n",
    "\n",
    "simpson(f,-4,10,0.00004)"
   ]
  },
  {
   "cell_type": "code",
   "execution_count": 4,
   "metadata": {
    "collapsed": false
   },
   "outputs": [
    {
     "data": {
      "text/plain": [
       "2701.027975756533"
      ]
     },
     "execution_count": 4,
     "metadata": {},
     "output_type": "execute_result"
    }
   ],
   "source": [
    "#Probamos el método para g\n",
    "\n",
    "simpson(g,-3,5,0.0001)"
   ]
  },
  {
   "cell_type": "markdown",
   "metadata": {},
   "source": [
    "### Ejercicio 4.  Interpolación de Lagrange"
   ]
  },
  {
   "cell_type": "code",
   "execution_count": 5,
   "metadata": {
    "collapsed": false
   },
   "outputs": [
    {
     "name": "stderr",
     "output_type": "stream",
     "text": [
      "\u001b[1m\u001b[36mINFO: \u001b[39m\u001b[22m\u001b[36mPackage SymPy is already installed\n",
      "\u001b[39m\u001b[1m\u001b[36mINFO: \u001b[39m\u001b[22m\u001b[36mMETADATA is out-of-date — you may not have the latest version of SymPy\n",
      "\u001b[39m\u001b[1m\u001b[36mINFO: \u001b[39m\u001b[22m\u001b[36mUse `Pkg.update()` to get the latest versions of your packages\n",
      "\u001b[39m"
     ]
    }
   ],
   "source": [
    "Pkg.add(\"SymPy\");"
   ]
  },
  {
   "cell_type": "code",
   "execution_count": 47,
   "metadata": {
    "collapsed": false
   },
   "outputs": [],
   "source": [
    "using SymPy;"
   ]
  },
  {
   "cell_type": "code",
   "execution_count": 48,
   "metadata": {
    "collapsed": false
   },
   "outputs": [],
   "source": [
    "#Definimos la función lagrange(f,x,y), cuyos argumentos son: f, la función; x la lista de las abscisas; y y, la lista de las correspondientes ordenadas.\n",
    "function lagrange(X,Y,x)\n",
    "    #Definimos nuestra variable simbólica z\n",
    "    z=Sym(\"z\");\n",
    "    #Vamos a ir guardando cada término en el polinomio pol, que definimos como 0 al inicio\n",
    "    pol=0\n",
    "    #El siguiente for es para ir tomando\n",
    "    for j in 1:length(Y)\n",
    "        l=1*z/z\n",
    "        for m in 1:length(X)\n",
    "            if j!=m\n",
    "               l=l*(z-X[m])/(X[j]-X[m])\n",
    "            end\n",
    "        end\n",
    "        pol=pol+Y[j]*l\n",
    "    end\n",
    "    pol=simplify(pol)\n",
    "    L=lambdify(pol,[z])\n",
    "    return L(x)\n",
    "end;"
   ]
  },
  {
   "cell_type": "markdown",
   "metadata": {},
   "source": [
    "#### Interpolación de cos(x)"
   ]
  },
  {
   "cell_type": "code",
   "execution_count": 49,
   "metadata": {
    "collapsed": false
   },
   "outputs": [],
   "source": [
    "A=linspace(0,2pi,10);"
   ]
  },
  {
   "cell_type": "code",
   "execution_count": 50,
   "metadata": {
    "collapsed": false
   },
   "outputs": [],
   "source": [
    "B=cos.(A);"
   ]
  },
  {
   "cell_type": "code",
   "execution_count": 51,
   "metadata": {
    "collapsed": false
   },
   "outputs": [
    {
     "data": {
      "text/latex": [
       "$$5.6920614055489 \\cdot 10^{-18} x^{9} - 1.97979336359535 \\cdot 10^{-5} x^{8} + 0.000497576342935013 x^{7} - 0.00411366974808214 x^{6} + 0.00878850466172487 x^{5} + 0.0243778891541915 x^{4} + 0.0201425548285172 x^{3} - 0.512543349763835 x^{2} + 0.003132547207505 x + 1.0$$"
      ],
      "text/plain": [
       "                     9                        8                         7     \n",
       "5.6920614055489e-18*x  - 1.97979336359535e-5*x  + 0.000497576342935013*x  - 0.\n",
       "\n",
       "                   6                        5                       4         \n",
       "00411366974808214*x  + 0.00878850466172487*x  + 0.0243778891541915*x  + 0.0201\n",
       "\n",
       "              3                      2                            \n",
       "425548285172*x  - 0.512543349763835*x  + 0.003132547207505*x + 1.0"
      ]
     },
     "execution_count": 51,
     "metadata": {},
     "output_type": "execute_result"
    }
   ],
   "source": [
    "lagrange(A,B,Sym(\"x\"))"
   ]
  },
  {
   "cell_type": "code",
   "execution_count": 52,
   "metadata": {
    "collapsed": false
   },
   "outputs": [],
   "source": [
    "interpcos(x)=lagrange(A,B,x);"
   ]
  },
  {
   "cell_type": "code",
   "execution_count": 39,
   "metadata": {
    "collapsed": false
   },
   "outputs": [
    {
     "name": "stderr",
     "output_type": "stream",
     "text": [
      "\u001b[1m\u001b[36mINFO: \u001b[39m\u001b[22m\u001b[36mPackage PyPlot is already installed\n",
      "\u001b[39m\u001b[1m\u001b[36mINFO: \u001b[39m\u001b[22m\u001b[36mMETADATA is out-of-date — you may not have the latest version of PyPlot\n",
      "\u001b[39m\u001b[1m\u001b[36mINFO: \u001b[39m\u001b[22m\u001b[36mUse `Pkg.update()` to get the latest versions of your packages\n",
      "\u001b[39m"
     ]
    }
   ],
   "source": [
    "Pkg.add(\"PyPlot\")"
   ]
  },
  {
   "cell_type": "code",
   "execution_count": 53,
   "metadata": {
    "collapsed": true
   },
   "outputs": [],
   "source": [
    "using PyPlot"
   ]
  },
  {
   "cell_type": "code",
   "execution_count": 55,
   "metadata": {
    "collapsed": false
   },
   "outputs": [
    {
     "data": {
      "image/png": "[encoded data removed]",
      "text/plain": [
       "PyPlot.Figure(PyObject <matplotlib.figure.Figure object at 0x7f60ce648890>)"
      ]
     },
     "metadata": {},
     "output_type": "display_data"
    }
   ],
   "source": [
    "scatter(A,B)\n",
    "a=linspace(0,2pi,100)\n",
    "b=interpcos.(a)\n",
    "plot(a,b)\n",
    "show();"
   ]
  },
  {
   "cell_type": "code",
   "execution_count": null,
   "metadata": {
    "collapsed": true
   },
   "outputs": [],
   "source": []
  }
 ],
 "metadata": {
  "kernelspec": {
   "display_name": "Julia 0.6.0",
   "language": "julia",
   "name": "julia-0.6"
  },
  "language_info": {
   "file_extension": ".jl",
   "mimetype": "application/julia",
   "name": "julia",
   "version": "0.6.0"
  }
 },
 "nbformat": 4,
 "nbformat_minor": 2
}
