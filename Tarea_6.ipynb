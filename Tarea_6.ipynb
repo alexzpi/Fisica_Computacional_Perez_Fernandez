{
 "cells": [
  {
   "cell_type": "markdown",
   "metadata": {},
   "source": [
    "### Ejercicio 1. Método del rectángulo"
   ]
  },
  {
   "cell_type": "code",
   "execution_count": 83,
   "metadata": {
    "collapsed": true
   },
   "outputs": [],
   "source": [
    "#Creamos la función riemann(f,a,b,e), donde f es la función dada, a y b son los extremos de integración y e es la longitud deseada para los subintervalos\n",
    "function riemann(f,a,b,e)\n",
    "    #Si e es la longitud deseada para los subintervalos, entonces el número de subintervalos será (b-a)/e para asegurar que sea entero usamos round() (como se muestra abajo), pero entonces el número de elementos en nuestra partición tiene que ser el número anterior más uno, de esta forma definimos h\n",
    "    h=1+round((b-a)/e)\n",
    "   #Definimos la lista de h elementos de \"a\" a \"b\" \n",
    "    list=linspace(a,b,h)\n",
    "    #Definimos nuestro valor inicial\n",
    "    int=0\n",
    "    #El for es para ir sumando la contribución de cada intervalo a la integral\n",
    "    for i in 2:length(list)\n",
    "        #A int le vamos sumando el área de cada rectángulo.\n",
    "        int=int+(list[i]-list[i-1])*f((list[i]+list[i-1])/2)\n",
    "    end\n",
    "    #La función regresa el valor de la integral\n",
    "    return int    \n",
    "end;"
   ]
  },
  {
   "cell_type": "markdown",
   "metadata": {},
   "source": [
    "Ejemplos. \n",
    "\n",
    "Consideremos $f(x)=x^2$ y $g(x)=cos(x)$"
   ]
  },
  {
   "cell_type": "code",
   "execution_count": 89,
   "metadata": {
    "collapsed": false
   },
   "outputs": [],
   "source": [
    "#Definimos f\n",
    "f(x)=x^2;"
   ]
  },
  {
   "cell_type": "code",
   "execution_count": 85,
   "metadata": {
    "collapsed": false
   },
   "outputs": [],
   "source": [
    "#Definimos g\n",
    "g(x)=cos(x);"
   ]
  },
  {
   "cell_type": "code",
   "execution_count": 91,
   "metadata": {
    "collapsed": false
   },
   "outputs": [
    {
     "data": {
      "text/plain": [
       "666.5999999999999"
      ]
     },
     "execution_count": 91,
     "metadata": {},
     "output_type": "execute_result"
    }
   ],
   "source": [
    "#Probamos el método para f\n",
    "riemann(f,-10,10,0.2)"
   ]
  },
  {
   "cell_type": "markdown",
   "metadata": {},
   "source": [
    "Analíticamente podemos ver que $\\int_{-10}^{10}x^2dx=666.6666$. Por lo que el método nos da una buena aproximación en las primeras tres cifras."
   ]
  },
  {
   "cell_type": "code",
   "execution_count": 94,
   "metadata": {
    "collapsed": false
   },
   "outputs": [
    {
     "data": {
      "text/plain": [
       "-1.0000375390371339"
      ]
     },
     "execution_count": 94,
     "metadata": {},
     "output_type": "execute_result"
    }
   ],
   "source": [
    "#Probamos el método para g\n",
    "riemann(g,0,3pi/2,0.03)"
   ]
  },
  {
   "cell_type": "markdown",
   "metadata": {},
   "source": [
    "Analíticamente, sabemos que $\\int_{0}^{3\\pi/2}cos(x)dx=-1$. "
   ]
  },
  {
   "cell_type": "markdown",
   "metadata": {},
   "source": [
    "### Ejercicio 2. Método del trapecio"
   ]
  },
  {
   "cell_type": "code",
   "execution_count": 99,
   "metadata": {
    "collapsed": true
   },
   "outputs": [],
   "source": [
    "#Creamos la función trapecio(f,a,b,e), donde f es la función dada, a y b son los extremos de integración y e es la longitud deseada para los subintervalos\n",
    "function trapecio(f,a,b,e)\n",
    "    #Si e es la longitud deseada para los subintervalos, entonces el número de subintervalos será (b-a)/e para asegurar que sea entero usamos round() (como se muestra abajo), pero entonces el número de elementos en nuestra partición tiene que ser el número anterior más uno, de esta forma definimos h\n",
    "    h=1+round((b-a)/e)\n",
    "   #Definimos la lista de h elementos de \"a\" a \"b\" \n",
    "    list=linspace(a,b,h)\n",
    "    #Definimos nuestro valor inicial\n",
    "    int=0\n",
    "    #El for es para ir sumando la contribución de cada intervalo a la integral\n",
    "    for i in 2:length(list)\n",
    "        #A int le vamos sumando el área de cada trapecio.\n",
    "        int=int+(list[i]-list[i-1])*((f(list[i])+f(list[i-1]))/2)\n",
    "    end\n",
    "    #La función regresa el valor de la integral\n",
    "    return int    \n",
    "end;"
   ]
  },
  {
   "cell_type": "markdown",
   "metadata": {},
   "source": [
    "Ejemplos.\n",
    "\n",
    "Usamos las mimas $f$ y $g$ anteriores, para comparar los valores obtenidos."
   ]
  },
  {
   "cell_type": "code",
   "execution_count": 100,
   "metadata": {
    "collapsed": false
   },
   "outputs": [
    {
     "data": {
      "text/plain": [
       "666.8"
      ]
     },
     "execution_count": 100,
     "metadata": {},
     "output_type": "execute_result"
    }
   ],
   "source": [
    "#Probamos el método para f\n",
    "trapecio(f,-10,10,0.2)"
   ]
  },
  {
   "cell_type": "code",
   "execution_count": 101,
   "metadata": {
    "collapsed": false
   },
   "outputs": [
    {
     "data": {
      "text/plain": [
       "-0.9999249227712182"
      ]
     },
     "execution_count": 101,
     "metadata": {},
     "output_type": "execute_result"
    }
   ],
   "source": [
    "#Probamos el método para g\n",
    "trapecio(g,0,3pi/2,0.03)"
   ]
  }
 ],
 "metadata": {
  "kernelspec": {
   "display_name": "Julia 0.6.0",
   "language": "julia",
   "name": "julia-0.6"
  },
  "language_info": {
   "file_extension": ".jl",
   "mimetype": "application/julia",
   "name": "julia",
   "version": "0.6.0"
  }
 },
 "nbformat": 4,
 "nbformat_minor": 2
}
