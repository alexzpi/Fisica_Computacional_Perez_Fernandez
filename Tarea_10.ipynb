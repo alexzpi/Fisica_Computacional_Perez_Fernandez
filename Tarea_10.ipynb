{
 "cells": [
  {
   "cell_type": "code",
   "execution_count": 2,
   "metadata": {
    "collapsed": true
   },
   "outputs": [],
   "source": [
    "using SymPy"
   ]
  },
  {
   "cell_type": "markdown",
   "metadata": {},
   "source": [
    "Recordemos que podemos escribir $$ \\ \\left.\\frac{d}{d_\\xi}\\right|_{\\substack{ \\xi=x }}=\\frac{1}{h}sinh^{-1}(\\frac{\\delta_{h}}{2}),$$\n",
    "\n",
    "donde $\\delta_{h}=\\Delta_{h}-\\Delta_{-h}$. \n"
   ]
  },
  {
   "cell_type": "code",
   "execution_count": 3,
   "metadata": {
    "collapsed": false
   },
   "outputs": [],
   "source": [
    "#Definimos la función que nos regresa los coeficientes de la expansión de Taylor del arcoseno hiperbólico como números flotantes\n",
    "function coeff_Taylor_asinh(i)\n",
    "x=Sym(\"x\");\n",
    "h=Sym(\"h\");\n",
    "    \n",
    "#Usamos N para transformar el número simbólico a uno flotante\n",
    "#Usamos diff(asinh(x/(2.0)),x,i) para calcular la i-ésima derivada y subs para evaluarla en 0\n",
    "N(subs(diff(asinh(x/(2.0)),x,i)/factorial(Float64(i)),x=>0))\n",
    "end;\n",
    "\n",
    "\n",
    "#Definimos la función que nos regresa los coeficientes de la expansión de Taylor del arcoseno hiperbólico como números simbólicos\n",
    "function coeff_Taylor_asinh_rational(i)\n",
    "x=Sym(\"x\");\n",
    "h=Sym(\"h\");    \n",
    "#Usamos diff(asinh(x/(2.0)),x,i) para calcular la i-ésima derivada y subs para evaluarla en 0\n",
    "subs(diff(asinh(x/2),x,i)/factorial(i),x=>0)\n",
    "end;\n",
    "\n",
    "\n",
    "#Definimos la función que nos regresa un función de dos variables, la diferencia simétrica f(x+h)-f(x-h)\n",
    "function symmetric_difference(f)\n",
    "    return (x,h)->f(x+h,h)-f(x-h,h)\n",
    "end;"
   ]
  },
  {
   "cell_type": "code",
   "execution_count": 4,
   "metadata": {
    "collapsed": true
   },
   "outputs": [],
   "source": [
    "#Definimos la función que nos regresa la derivada en x, tomando como intervalo finito h y al orden que le indiquemos (el orden en la serie de Taylor del arcoseno hiperbólico).\n",
    "\n",
    "function Derivative_order(f,x,h,order)\n",
    "    #Definimos g como una función de dos variables, para poder utilizar nuestra función symmetric_difference\n",
    "    g(x,h)=f(x)\n",
    "    \n",
    "    #Tomamos el valor inicial de la derivada como 0, para irle sumando los demás términos\n",
    "    der=0\n",
    "    \n",
    "    #El for es para tomar los términos hasta el orden indicado\n",
    "    for i in range(1,order)\n",
    "        \n",
    "        #Aplicamos la función symmetric_difference a g. Como estamos definiendolo sobre la misma g, entonces en realidad estamos aplicando la diferencia simétrica por i-ésima vez\n",
    "        g=symmetric_difference(g)\n",
    "        \n",
    "        #A der le vamos sumando los respectivos términos de la expansión de Taylor y evaluando en la i-ésima \"potencia\" de la diferencia simétrica (que como ya se dijo, se guardó en g)\n",
    "        der=der+coeff_Taylor_asinh(i)*g(x,h)\n",
    "    end\n",
    "#Al final dividimos por el factor 1/h que se encontraba en la ecuación original\n",
    "    der/h\n",
    "end;\n",
    "\n",
    "\n",
    "\n",
    "#La siguiente función hace exactamente lo mismo que la de arriba, sólo que en vez de usar los coeficientes flotantes, se utilizan los simbólicos. Por tal motivo, esta función regresa un número simbólico.\n",
    "\n",
    "function Derivative_order_rational_coefficients(f,x,h,order)\n",
    "    g(x,h)=f(x)\n",
    "    der=0\n",
    "    for i in range(1,order)\n",
    "        g=symmetric_difference(g)\n",
    "        der=der+coeff_Taylor_asinh_rational(i)*g(x,h)\n",
    "    end\n",
    "    der/h\n",
    "end;"
   ]
  },
  {
   "cell_type": "markdown",
   "metadata": {},
   "source": [
    "Ahora probemos nuestro método con la función $f(x)=cos(x)$, de la cual sabemos que $f'(x)=-sin(x)$. Tomamos $h=0.01$, $x=0.5$ y pedimos que el método utilice hasta el término de orden 10."
   ]
  },
  {
   "cell_type": "code",
   "execution_count": 5,
   "metadata": {
    "collapsed": true
   },
   "outputs": [],
   "source": [
    "f(x)=cos(x);"
   ]
  },
  {
   "cell_type": "code",
   "execution_count": 6,
   "metadata": {
    "collapsed": false
   },
   "outputs": [
    {
     "data": {
      "text/plain": [
       "-0.47942553860419873"
      ]
     },
     "execution_count": 6,
     "metadata": {},
     "output_type": "execute_result"
    }
   ],
   "source": [
    "Derivative_order(f,0.5,0.01,10)"
   ]
  },
  {
   "cell_type": "code",
   "execution_count": 7,
   "metadata": {
    "collapsed": false
   },
   "outputs": [
    {
     "data": {
      "text/plain": [
       "-0.479425538604203"
      ]
     },
     "execution_count": 7,
     "metadata": {},
     "output_type": "execute_result"
    }
   ],
   "source": [
    "-sin(0.5)"
   ]
  },
  {
   "cell_type": "markdown",
   "metadata": {},
   "source": [
    "Notamos que el valor dado por nuestro método es igual al valor real, al menos en los primeros 13 dígitos."
   ]
  }
 ],
 "metadata": {
  "kernelspec": {
   "display_name": "Julia 0.6.0",
   "language": "julia",
   "name": "julia-0.6"
  },
  "language_info": {
   "file_extension": ".jl",
   "mimetype": "application/julia",
   "name": "julia",
   "version": "0.6.0"
  }
 },
 "nbformat": 4,
 "nbformat_minor": 2
}
