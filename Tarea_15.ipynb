{
 "cells": [
  {
   "cell_type": "markdown",
   "metadata": {},
   "source": [
    "Sabemos que, al usar `import`, Julia busca en los directorios que se encuentran en `LOAD_PATH`. "
   ]
  },
  {
   "cell_type": "code",
   "execution_count": 1,
   "metadata": {},
   "outputs": [
    {
     "data": {
      "text/plain": [
       "3-element Array{String,1}:\n",
       " \"/opt/julia-0.5.2/local/share/julia/site/v0.5\"\n",
       " \"/opt/julia-0.5.2/share/julia/site/v0.5\"      \n",
       " \"/opt/julia_packages/.julia/v0.5/\"            "
      ]
     },
     "execution_count": 1,
     "metadata": {},
     "output_type": "execute_result"
    }
   ],
   "source": [
    "LOAD_PATH"
   ]
  },
  {
   "cell_type": "markdown",
   "metadata": {},
   "source": [
    "Entonces, es necesario agregar el path de la carpeta a `LOAD_PATH`."
   ]
  },
  {
   "cell_type": "code",
   "execution_count": 2,
   "metadata": {},
   "outputs": [
    {
     "data": {
      "text/plain": [
       "4-element Array{String,1}:\n",
       " \"/opt/julia-0.5.2/local/share/julia/site/v0.5\"     \n",
       " \"/opt/julia-0.5.2/share/julia/site/v0.5\"           \n",
       " \"/opt/julia_packages/.julia/v0.5/\"                 \n",
       " \"/home/juser/Fisica_Computacional_Perez_Fernandez/\""
      ]
     },
     "execution_count": 2,
     "metadata": {},
     "output_type": "execute_result"
    }
   ],
   "source": [
    "#Usamos push!() para agregar el path de la carpeta\n",
    "push!(LOAD_PATH, \"/home/juser/Fisica_Computacional_Perez_Fernandez/\")"
   ]
  },
  {
   "cell_type": "code",
   "execution_count": 3,
   "metadata": {
    "scrolled": true
   },
   "outputs": [],
   "source": [
    "#importamos el módulo\n",
    "import herramientas"
   ]
  },
  {
   "cell_type": "markdown",
   "metadata": {},
   "source": [
    "A continuación se muestran los tests para las diferentes rutinas incluidas en el módulo herramientas"
   ]
  },
  {
   "cell_type": "markdown",
   "metadata": {},
   "source": [
    "__Métodos de Newton__."
   ]
  },
  {
   "cell_type": "code",
   "execution_count": 4,
   "metadata": {},
   "outputs": [
    {
     "data": {
      "text/markdown": [
       "La función newton(f,df,x0) tiene fomo argumentos la función f, su derivada (df) y la condición inicial (x0). El output de esta función es la raiz de f más cercana a x0.\n"
      ],
      "text/plain": [
       "La función newton(f,df,x0) tiene fomo argumentos la función f, su derivada (df) y la condición inicial (x0). El output de esta función es la raiz de f más cercana a x0.\n"
      ]
     },
     "execution_count": 4,
     "metadata": {},
     "output_type": "execute_result"
    }
   ],
   "source": [
    "?herramientas.newton\n",
    "#Probamos el método de Newton"
   ]
  },
  {
   "cell_type": "code",
   "execution_count": 5,
   "metadata": {},
   "outputs": [
    {
     "data": {
      "text/plain": [
       "1.0"
      ]
     },
     "execution_count": 5,
     "metadata": {},
     "output_type": "execute_result"
    }
   ],
   "source": [
    "herramientas.newton(x->x^2-1,x->2*x,3)"
   ]
  },
  {
   "cell_type": "code",
   "execution_count": 6,
   "metadata": {},
   "outputs": [
    {
     "data": {
      "text/plain": [
       "3.141592653589793"
      ]
     },
     "execution_count": 6,
     "metadata": {},
     "output_type": "execute_result"
    }
   ],
   "source": [
    "herramientas.newton(x->sin(x),x->cos(x),3)"
   ]
  },
  {
   "cell_type": "code",
   "execution_count": 7,
   "metadata": {},
   "outputs": [
    {
     "data": {
      "text/markdown": [
       "newton_raices(f,df,lin) nos regresa las raices distintas de una función encontradas a partir de varias condiciones iniciales. f es la función a la que se quiere encontrar las raíces, df es su derivada y lin es la lista de condiciones iniciales.\n"
      ],
      "text/plain": [
       "newton_raices(f,df,lin) nos regresa las raices distintas de una función encontradas a partir de varias condiciones iniciales. f es la función a la que se quiere encontrar las raíces, df es su derivada y lin es la lista de condiciones iniciales.\n"
      ]
     },
     "execution_count": 7,
     "metadata": {},
     "output_type": "execute_result"
    }
   ],
   "source": [
    "?herramientas.newton_raices\n",
    "#Probamos el método de newton para varias condiciones iniciales"
   ]
  },
  {
   "cell_type": "code",
   "execution_count": 8,
   "metadata": {},
   "outputs": [
    {
     "data": {
      "text/plain": [
       "2-element Array{Any,1}:\n",
       " -1.0\n",
       "  1.0"
      ]
     },
     "execution_count": 8,
     "metadata": {},
     "output_type": "execute_result"
    }
   ],
   "source": [
    "herramientas.newton_raices(x->x^2-1,x->2*x,-3:0.1:3)"
   ]
  },
  {
   "cell_type": "code",
   "execution_count": 9,
   "metadata": {},
   "outputs": [
    {
     "data": {
      "text/plain": [
       "11-element Array{Any,1}:\n",
       "   0.0    \n",
       "   3.14159\n",
       "  -3.14159\n",
       " -12.5664 \n",
       "  31.4159 \n",
       "   9.42478\n",
       "   6.28319\n",
       "  12.5664 \n",
       " -75.3982 \n",
       "  15.708  \n",
       " 182.212  "
      ]
     },
     "execution_count": 9,
     "metadata": {},
     "output_type": "execute_result"
    }
   ],
   "source": [
    "herramientas.newton_raices(x->sin(x),x->cos(x),0:0.1:6)"
   ]
  },
  {
   "cell_type": "markdown",
   "metadata": {},
   "source": [
    "__Métodos de integración__"
   ]
  },
  {
   "cell_type": "code",
   "execution_count": 10,
   "metadata": {},
   "outputs": [
    {
     "data": {
      "text/markdown": [
       "La función riemann(f,a,b,e) regresa la integral por el método del rectángulo, donde f es la función dada, a y b son los extremos de integración y e es la longitud deseada para los subintervalos\n"
      ],
      "text/plain": [
       "La función riemann(f,a,b,e) regresa la integral por el método del rectángulo, donde f es la función dada, a y b son los extremos de integración y e es la longitud deseada para los subintervalos\n"
      ]
     },
     "execution_count": 10,
     "metadata": {},
     "output_type": "execute_result"
    }
   ],
   "source": [
    "?herramientas.riemann\n",
    "#Probamos el método de Riemmann"
   ]
  },
  {
   "cell_type": "code",
   "execution_count": 11,
   "metadata": {},
   "outputs": [
    {
     "data": {
      "text/plain": [
       "147.35175486302293"
      ]
     },
     "execution_count": 11,
     "metadata": {},
     "output_type": "execute_result"
    }
   ],
   "source": [
    "herramientas.riemann(x->e^x,0,5,0.1)"
   ]
  },
  {
   "cell_type": "code",
   "execution_count": 12,
   "metadata": {},
   "outputs": [
    {
     "data": {
      "text/plain": [
       "1.1199334103324798e-15"
      ]
     },
     "execution_count": 12,
     "metadata": {},
     "output_type": "execute_result"
    }
   ],
   "source": [
    "herramientas.riemann(x->sin(x),0,2*pi,0.01)"
   ]
  },
  {
   "cell_type": "code",
   "execution_count": 13,
   "metadata": {},
   "outputs": [
    {
     "data": {
      "text/markdown": [
       "La función trapecio(f,a,b,e) regresa la integral por el método el trapecio, donde f es la función dada, a y b son los extremos de integración y e es la longitud deseada para los subintervalos\n"
      ],
      "text/plain": [
       "La función trapecio(f,a,b,e) regresa la integral por el método el trapecio, donde f es la función dada, a y b son los extremos de integración y e es la longitud deseada para los subintervalos\n"
      ]
     },
     "execution_count": 13,
     "metadata": {},
     "output_type": "execute_result"
    }
   ],
   "source": [
    "?herramientas.trapecio\n",
    "#Probamos el método del trapecio"
   ]
  },
  {
   "cell_type": "code",
   "execution_count": 14,
   "metadata": {},
   "outputs": [
    {
     "data": {
      "text/plain": [
       "147.53598293265242"
      ]
     },
     "execution_count": 14,
     "metadata": {},
     "output_type": "execute_result"
    }
   ],
   "source": [
    "herramientas.trapecio(x-> e^x,0,5,0.1)"
   ]
  },
  {
   "cell_type": "code",
   "execution_count": 15,
   "metadata": {},
   "outputs": [
    {
     "data": {
      "text/plain": [
       "-1.2403882716956194e-15"
      ]
     },
     "execution_count": 15,
     "metadata": {},
     "output_type": "execute_result"
    }
   ],
   "source": [
    "herramientas.trapecio(x->sin(x),0,2*pi,0.01)"
   ]
  },
  {
   "cell_type": "code",
   "execution_count": 16,
   "metadata": {},
   "outputs": [
    {
     "data": {
      "text/markdown": [
       "La función simpson(f,a,b,e) regresa la integral por el método de Simpson, donde f es la función dada, a y b son los extremos de integración y e es la longitud deseada para los subintervalos.\n"
      ],
      "text/plain": [
       "La función simpson(f,a,b,e) regresa la integral por el método de Simpson, donde f es la función dada, a y b son los extremos de integración y e es la longitud deseada para los subintervalos.\n"
      ]
     },
     "execution_count": 16,
     "metadata": {},
     "output_type": "execute_result"
    }
   ],
   "source": [
    "?herramientas.simpson\n",
    "#Probamos el método de Simpson"
   ]
  },
  {
   "cell_type": "code",
   "execution_count": 17,
   "metadata": {},
   "outputs": [
    {
     "data": {
      "text/plain": [
       "147.41316421956608"
      ]
     },
     "execution_count": 17,
     "metadata": {},
     "output_type": "execute_result"
    }
   ],
   "source": [
    "herramientas.simpson(x->e^x,0,5,0.1)"
   ]
  },
  {
   "cell_type": "code",
   "execution_count": 18,
   "metadata": {},
   "outputs": [
    {
     "data": {
      "text/plain": [
       "6.9692515647368225e-16"
      ]
     },
     "execution_count": 18,
     "metadata": {},
     "output_type": "execute_result"
    }
   ],
   "source": [
    "herramientas.simpson(x->sin(x),0,2*pi,0.01)"
   ]
  },
  {
   "cell_type": "markdown",
   "metadata": {},
   "source": [
    "__Métodos de Euler__"
   ]
  },
  {
   "cell_type": "code",
   "execution_count": 19,
   "metadata": {},
   "outputs": [
    {
     "data": {
      "text/markdown": [
       "euler_method(f,listt,x0).Método de Euler explícito para funciones de cualquier dimensión. Las entradas son: f (debe ser del tipo f(x,t)), la función que nos da la derivada;listt,el arreglo de t's; y x0, el valor inicial.\n"
      ],
      "text/plain": [
       "euler_method(f,listt,x0).Método de Euler explícito para funciones de cualquier dimensión. Las entradas son: f (debe ser del tipo f(x,t)), la función que nos da la derivada;listt,el arreglo de t's; y x0, el valor inicial.\n"
      ]
     },
     "execution_count": 19,
     "metadata": {},
     "output_type": "execute_result"
    }
   ],
   "source": [
    "?herramientas.euler_method\n",
    "#Probamos el método de Euler explícito"
   ]
  },
  {
   "cell_type": "code",
   "execution_count": 20,
   "metadata": {},
   "outputs": [
    {
     "data": {
      "text/plain": [
       "101-element Array{Any,1}:\n",
       " [2,0]               \n",
       " [2.0,-0.2]          \n",
       " [1.98,-0.4]         \n",
       " [1.94,-0.598]       \n",
       " [1.8802,-0.792]     \n",
       " [1.801,-0.98002]    \n",
       " [1.703,-1.16012]    \n",
       " [1.58699,-1.33042]  \n",
       " [1.45394,-1.48912]  \n",
       " [1.30503,-1.63451]  \n",
       " [1.14158,-1.76502]  \n",
       " [0.965079,-1.87917] \n",
       " [0.777162,-1.97568] \n",
       " ⋮                   \n",
       " [-2.64787,-1.63901] \n",
       " [-2.81177,-1.37422] \n",
       " [-2.94919,-1.09305] \n",
       " [-3.0585,-0.798128] \n",
       " [-3.13831,-0.492279]\n",
       " [-3.18754,-0.178448]\n",
       " [-3.20538,0.140306] \n",
       " [-3.19135,0.460844] \n",
       " [-3.14527,0.779979] \n",
       " [-3.06727,1.09451]  \n",
       " [-2.95782,1.40123]  \n",
       " [-2.81769,1.69701]  "
      ]
     },
     "execution_count": 20,
     "metadata": {},
     "output_type": "execute_result"
    }
   ],
   "source": [
    "herramientas.euler_method((x,t)->[x[2],-x[1]],0:0.1:10,[2,0])"
   ]
  },
  {
   "cell_type": "code",
   "execution_count": 21,
   "metadata": {},
   "outputs": [
    {
     "data": {
      "text/plain": [
       "101-element Array{Any,1}:\n",
       "     4      \n",
       "     4.4    \n",
       "     4.841  \n",
       "     5.3291 \n",
       "     5.87101\n",
       "     6.47411\n",
       "     7.14652\n",
       "     7.89717\n",
       "     8.73589\n",
       "     9.67348\n",
       "    10.7218 \n",
       "    11.894  \n",
       "    13.2044 \n",
       "     ⋮      \n",
       " 29364.0    \n",
       " 32308.3    \n",
       " 35547.3    \n",
       " 39110.3    \n",
       " 43029.8    \n",
       " 47341.4    \n",
       " 52084.4    \n",
       " 57301.8    \n",
       " 63041.2    \n",
       " 69354.8    \n",
       " 76299.8    \n",
       " 83939.6    "
      ]
     },
     "execution_count": 21,
     "metadata": {},
     "output_type": "execute_result"
    }
   ],
   "source": [
    "herramientas.euler_method((x,t)->x+t^2,0:0.1:10,4)"
   ]
  },
  {
   "cell_type": "code",
   "execution_count": 22,
   "metadata": {},
   "outputs": [
    {
     "data": {
      "text/markdown": [
       "Método implícito de Euler para una dimensión. euler_imp(f,dxf,listt,x0). Esta función tiene como argumentos la función f (debe ser del tipo f(x,t)) , su derivada respecto a x (dxf -también debe ser función de x y t-), la lista de t's (listt) y la condición inicial (x0).\n"
      ],
      "text/plain": [
       "Método implícito de Euler para una dimensión. euler_imp(f,dxf,listt,x0). Esta función tiene como argumentos la función f (debe ser del tipo f(x,t)) , su derivada respecto a x (dxf -también debe ser función de x y t-), la lista de t's (listt) y la condición inicial (x0).\n"
      ]
     },
     "execution_count": 22,
     "metadata": {},
     "output_type": "execute_result"
    }
   ],
   "source": [
    "?herramientas.euler_imp\n",
    "#Probamos el método de Euler implícito"
   ]
  },
  {
   "cell_type": "code",
   "execution_count": 23,
   "metadata": {},
   "outputs": [
    {
     "data": {
      "text/plain": [
       "2001-element Array{Float64,1}:\n",
       " 3.0      \n",
       " 3.0303   \n",
       " 3.06091  \n",
       " 3.09183  \n",
       " 3.12306  \n",
       " 3.15461  \n",
       " 3.18647  \n",
       " 3.21866  \n",
       " 3.25117  \n",
       " 3.28401  \n",
       " 3.31718  \n",
       " 3.35069  \n",
       " 3.38453  \n",
       " ⋮        \n",
       " 1.44118e9\n",
       " 1.45574e9\n",
       " 1.47045e9\n",
       " 1.4853e9 \n",
       " 1.5003e9 \n",
       " 1.51546e9\n",
       " 1.53076e9\n",
       " 1.54623e9\n",
       " 1.56184e9\n",
       " 1.57762e9\n",
       " 1.59356e9\n",
       " 1.60965e9"
      ]
     },
     "execution_count": 23,
     "metadata": {},
     "output_type": "execute_result"
    }
   ],
   "source": [
    "herramientas.euler_imp((x,t)->x,(x,t)->1,0:0.01:20,3)"
   ]
  },
  {
   "cell_type": "code",
   "execution_count": 24,
   "metadata": {},
   "outputs": [
    {
     "data": {
      "text/plain": [
       "2001-element Array{Float64,1}:\n",
       " 3.0    \n",
       " 2.91512\n",
       " 2.83495\n",
       " 2.75912\n",
       " 2.68731\n",
       " 2.61921\n",
       " 2.55455\n",
       " 2.49309\n",
       " 2.43462\n",
       " 2.37893\n",
       " 2.32583\n",
       " 2.27517\n",
       " 2.22678\n",
       " ⋮      \n",
       " 4.44716\n",
       " 4.44829\n",
       " 4.44941\n",
       " 4.45054\n",
       " 4.45167\n",
       " 4.45279\n",
       " 4.45392\n",
       " 4.45505\n",
       " 4.45617\n",
       " 4.4573 \n",
       " 4.45842\n",
       " 4.45955"
      ]
     },
     "execution_count": 24,
     "metadata": {},
     "output_type": "execute_result"
    }
   ],
   "source": [
    "herramientas.euler_imp((x,t)->t-x^2,(x,t)->-2*x,0:0.01:20,3)"
   ]
  },
  {
   "cell_type": "markdown",
   "metadata": {},
   "source": [
    "__Runge Kuta de orden 4__"
   ]
  },
  {
   "cell_type": "code",
   "execution_count": 25,
   "metadata": {},
   "outputs": [
    {
     "data": {
      "text/markdown": [
       "Método de Runge-Kutta de orden 4 para funciones de cualquier dimensión. Las entradas son: f, la función que nos da la derivada (debe ser del tipo f(x,t)); listt, el arreglo de t's; y x0, el valor inicial.\n"
      ],
      "text/plain": [
       "Método de Runge-Kutta de orden 4 para funciones de cualquier dimensión. Las entradas son: f, la función que nos da la derivada (debe ser del tipo f(x,t)); listt, el arreglo de t's; y x0, el valor inicial.\n"
      ]
     },
     "execution_count": 25,
     "metadata": {},
     "output_type": "execute_result"
    }
   ],
   "source": [
    "?herramientas.rk_4\n",
    "#probamos el método de Runge Kutta de orden 4 para cualquier dimensión"
   ]
  },
  {
   "cell_type": "code",
   "execution_count": 26,
   "metadata": {},
   "outputs": [
    {
     "data": {
      "text/plain": [
       "101-element Array{Any,1}:\n",
       " [2,0]                \n",
       " [1.99001,-0.199667]  \n",
       " [1.96013,-0.397338]  \n",
       " [1.91067,-0.59104]   \n",
       " [1.84212,-0.778836]  \n",
       " [1.75517,-0.95885]   \n",
       " [1.65067,-1.12928]   \n",
       " [1.52969,-1.28843]   \n",
       " [1.39341,-1.43471]   \n",
       " [1.24322,-1.56665]   \n",
       " [1.08061,-1.68294]   \n",
       " [0.907194,-1.78241]  \n",
       " [0.724717,-1.86408]  \n",
       " ⋮                    \n",
       " [-1.73086,-1.00205]  \n",
       " [-1.82225,-0.82425]  \n",
       " [-1.89544,-0.638211] \n",
       " [-1.94968,-0.445794] \n",
       " [-1.98445,-0.248924] \n",
       " [-1.99938,-0.0495664]\n",
       " [-1.99434,0.150286]  \n",
       " [-1.96938,0.348638]  \n",
       " [-1.92473,0.543505]  \n",
       " [-1.86086,0.732943]  \n",
       " [-1.77839,0.915057]  \n",
       " [-1.67815,1.08803]   "
      ]
     },
     "execution_count": 26,
     "metadata": {},
     "output_type": "execute_result"
    }
   ],
   "source": [
    "herramientas.rk_4((x,t)->[x[2],-x[1]],0:0.1:10,[2,0])"
   ]
  },
  {
   "cell_type": "code",
   "execution_count": 27,
   "metadata": {},
   "outputs": [
    {
     "data": {
      "text/plain": [
       "101-element Array{Any,1}:\n",
       "     4        \n",
       "     4.42103  \n",
       "     4.88842  \n",
       "     5.40915  \n",
       "     5.99095  \n",
       "     6.64233  \n",
       "     7.37271  \n",
       "     8.19251  \n",
       "     9.11324  \n",
       "    10.1476   \n",
       "    11.3097   \n",
       "    12.615    \n",
       "    14.0807   \n",
       "     ⋮        \n",
       " 43892.5      \n",
       " 48517.2      \n",
       " 53628.4      \n",
       " 59277.3      \n",
       " 65520.6      \n",
       " 72420.6      \n",
       " 80046.6      \n",
       " 88474.7      \n",
       " 97789.5      \n",
       "     1.08084e5\n",
       "     1.19462e5\n",
       "     1.32036e5"
      ]
     },
     "execution_count": 27,
     "metadata": {},
     "output_type": "execute_result"
    }
   ],
   "source": [
    "herramientas.rk_4((x,t)->x+t^2,0:0.1:10,4)"
   ]
  }
 ],
 "metadata": {
  "kernelspec": {
   "display_name": "Julia 0.5.2",
   "language": "julia",
   "name": "julia-0.5"
  },
  "language_info": {
   "file_extension": ".jl",
   "mimetype": "application/julia",
   "name": "julia",
   "version": "0.5.2"
  }
 },
 "nbformat": 4,
 "nbformat_minor": 2
}
