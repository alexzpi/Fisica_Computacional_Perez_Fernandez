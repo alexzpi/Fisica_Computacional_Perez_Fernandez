{
 "cells": [
  {
   "cell_type": "markdown",
   "metadata": {},
   "source": [
    "# Método de integración de Riemman"
   ]
  },
  {
   "cell_type": "markdown",
   "metadata": {},
   "source": [
    "Consideremos una función $f: [a,b] \\rightarrow \\mathbb{R}$.\n",
    "\n",
    "Ahora consideremos $P={x_{0},...,x_{n}}$, una partición del intervalo $[a,b]$. Para fines numéricos la forma más sencilla es hacer $x_{k}=a+k \\frac{b-a}{n}$. De donde $\\Delta x=\\frac{b-a}{n}$.\n",
    "\n",
    "La _suma izquierda de Riemman_ de $f$ respecto a $P$ se define como\n",
    "\n",
    "$L(f,P)= \\sum_{i=0}^{n-1}f(x_{i})\\Delta x $.\n",
    "\n",
    "Y la _suma derecha de Riemman_ como\n",
    "\n",
    "$R(f,P)= \\sum_{i=1}^{n}f(x_{i})\\Delta x $.\n",
    "\n",
    "Tomando un n lo suficientemente grande, ambas sumas deben tener un valor aproximado a la integral $\\int_{a}^{b}f(x)dx$.\n",
    "\n",
    "Otra opción, es tomar el valor del punto medio entre cada intervalo. En este caso la suma sería\n",
    "\n",
    "$\\sum_{i=1}^{n}f(a+i\\frac{\\Delta x}{2})\\Delta x $."
   ]
  },
  {
   "cell_type": "markdown",
   "metadata": {},
   "source": [
    "# Regla del trapecio"
   ]
  },
  {
   "cell_type": "markdown",
   "metadata": {},
   "source": [
    "Esta regla funciona aproximando la región debajo de la gráfica de la función $f$ como un trapezoide y calculando su área. De este modo tenemos que\n",
    "\n",
    "$\\int_{a}^{b}f(x)dx \\approx (b-a)\\frac{f(a)+f(b)}{2} $.\n",
    "\n",
    "Si utilizamos la misma partición que en el caso anterior y hacemos la aproximacción sobre cada intervalo, entonces ,sumando, tenemos que\n",
    "\n",
    "$\\int_{a}^{b}f(x)dx \\approx \\frac{\\Delta x}{2}\\sum_{i=1}^{n}(f(x_{i-1})+f(x_{i})) = \\frac{\\Delta x}{2}(f(x_{0})+2\\sum_{i=1}^{n-1}f(x_{i})+f(x_{n})).$ "
   ]
  },
  {
   "cell_type": "markdown",
   "metadata": {},
   "source": [
    "# Regla de Simpson"
   ]
  },
  {
   "cell_type": "markdown",
   "metadata": {},
   "source": [
    "Consideremos nuevamente la integral $\\int_{a}^{b}f(x)dx$.\n",
    "\n",
    "Ahora consideremos el polinomio $P(x)$ de orden 2 tal que tome los mismo valores que $f$ en $a$, en $b$ y en el punto medio $m= (a+b)/2$. Utilizando la interpolación por polinomios de Lagrange se pude obtener que\n",
    "\n",
    "$P(x)=f(a)\\frac{(x-m)(x-b)}{(a-m)(a-b)}+f(m)\\frac{(x-a)(x-b)}{(m-a)(m-b)}+f(b)\\frac{(x-a)(x-m)}{(b-a)(b-m)}$.\n",
    "\n"
   ]
  },
  {
   "cell_type": "markdown",
   "metadata": {},
   "source": [
    "De lo cual, se obtiene que\n",
    "$\\int_{a}^{b}P(x)dx= \\frac{b-a}{6}(f(a)+4f(\\frac{a+b}{2})+f(b))$.\n",
    "\n",
    "Por lo tanto\n",
    "$\\int_{a}^{b}f(x)dx \\approx \\frac{b-a}{6}(f(a)+4f(\\frac{a+b}{2})+f(b))$.\n"
   ]
  }
 ],
 "metadata": {
  "kernelspec": {
   "display_name": "Julia 0.6.0",
   "language": "julia",
   "name": "julia-0.6"
  },
  "language_info": {
   "file_extension": ".jl",
   "mimetype": "application/julia",
   "name": "julia",
   "version": "0.6.0"
  }
 },
 "nbformat": 4,
 "nbformat_minor": 2
}
