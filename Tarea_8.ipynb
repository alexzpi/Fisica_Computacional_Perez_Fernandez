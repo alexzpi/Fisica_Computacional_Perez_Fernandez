{
 "cells": [
  {
   "cell_type": "markdown",
   "metadata": {},
   "source": [
    "__Ejercicio 1__. Escribe una función `derivadaNumerica` que\n",
    "reciba: una función $f\\colon \\mathbb{R}\\mapsto\\mathbb{R}$,\n",
    "un punto $x_0\\in\\mathbb{R}$ y un número $h\\in\\mathbb{R}$. Esta función deberá calcular una aproximación a la\n",
    "derivada utilizando la definición indicada arriba ignorando\n",
    "la parte del límite. Es decir, algo como: `derivada_numerica(f,x,h)`."
   ]
  },
  {
   "cell_type": "code",
   "execution_count": 1,
   "metadata": {
    "collapsed": false
   },
   "outputs": [],
   "source": [
    "#definimos la función\n",
    "function derivada_numerica(f,x,h)\n",
    "    #simplemente aplicamos la definición sin la parte del límite y lo guardamos como \"d\"\n",
    "    d=(f(x+h)-f(x))/h\n",
    "    #la función regresa el valor de d\n",
    "    return d\n",
    "end;"
   ]
  },
  {
   "cell_type": "markdown",
   "metadata": {},
   "source": [
    "Ejemplo. Consideremos $g(x)=x^{5}$"
   ]
  },
  {
   "cell_type": "code",
   "execution_count": 2,
   "metadata": {
    "collapsed": false
   },
   "outputs": [],
   "source": [
    "g(x)=x^5;"
   ]
  },
  {
   "cell_type": "code",
   "execution_count": 3,
   "metadata": {
    "collapsed": false
   },
   "outputs": [
    {
     "data": {
      "text/plain": [
       "5.010010005000343"
      ]
     },
     "execution_count": 3,
     "metadata": {},
     "output_type": "execute_result"
    }
   ],
   "source": [
    "derivada_numerica(g,1,0.001)"
   ]
  },
  {
   "cell_type": "markdown",
   "metadata": {},
   "source": [
    "Sabemos que $g'(1)=5$, por lo que la aproximación al menos es correcta en las primeras dos cifras.\n"
   ]
  },
  {
   "cell_type": "markdown",
   "metadata": {},
   "source": [
    "__Ejercicio 7:__ Explotar la relación $\\delta_h=\\Delta_h-\\Delta_{-h}$, donde $\\delta_h:f(x)\\mapsto f(x+h)-f(x-h)$, para encontrar cual es la función $\\theta$ que relaciona a $\\delta_h$ con el operador derivada exacta, es decir:\n",
    "$$\\delta_h=\\theta\\left(h\\left. \\frac{d}{d\\xi}\\right|_{\\xi=x}\\right).$$\n",
    "\n",
    "Una vez que la encuentren, despejen $\\left. \\frac{d}{d\\xi}\\right|_{\\xi=x}$ y calculen la serie de Taylor de mánera similar a lo mostrado en las ecuaciones 3 y 4."
   ]
  },
  {
   "cell_type": "markdown",
   "metadata": {},
   "source": [
    "#### Respuesta\n",
    "\n",
    "Definimos  $\\alpha=\\left. h\\frac{d}{d_\\xi}\\right|_{\\substack{ \\xi=x }}$. Por lo visto en clase, tenemos que $\\Delta_{h}=e^{\\alpha}-1$.\n",
    "\n",
    "De las observaciones anteriores, podemos ver que  $\\Delta_{-h}=e^{-\\alpha}-1$\n",
    "\n",
    "Así, $$\\delta_{h}=\\Delta_{h}-\\Delta_{-h}= e^{\\alpha}-1-(e^{-\\alpha}-1)=e^{\\alpha}-e^{-\\alpha}=2 sinh(\\alpha) $$\n",
    "\n",
    "$$\\implies \\delta_{h}= \\theta(\\alpha)= 2 sinh(\\alpha)$$\n",
    "\n",
    "$$\\implies \\theta(x)=2 sinh(x).$$\n",
    "\n",
    "De este modo, despejando $\\alpha$ tenemos que \n",
    "$$ \\alpha=sinh^{-1}(\\frac{\\delta_{h}}{2})$$\n",
    "\n",
    "$$\\implies \\left. h\\frac{d}{d_\\xi}\\right|_{\\substack{ \\xi=x }}=sinh^{-1}(\\frac{\\delta_{h}}{2})$$\n",
    "\n",
    "$$\\implies \\ \\left.\\frac{d}{d_\\xi}\\right|_{\\substack{ \\xi=x }}=\\frac{1}{h}sinh^{-1}(\\frac{\\delta_{h}}{2})$$\n",
    "\n",
    "Y sabemos que $sinh^{-1}(x)=ln\\left( x+\\sqrt{x^2+1} \\right)$\n",
    "$$\\therefore \\ \\left.\\frac{d}{d_\\xi}\\right|_{\\substack{ \\xi=x }}= \\frac{1}{h} ln\\left(\\frac{\\delta_{h}}{2}+\\sqrt{\\left(\\frac{\\delta_{h}}{2}\\right)^2+1} \\right) $$"
   ]
  },
  {
   "cell_type": "markdown",
   "metadata": {},
   "source": [
    "Y tomando los primeros términos de la serie de Taylor de $ln\\left(\\frac{\\delta_{h}}{2}+\\sqrt{\\left(\\frac{\\delta_{h}}{2}\\right)^2+1}\\right)$ alrededor de cero tenemos\n",
    "\n",
    "$$\\left.\\frac{d}{d_\\xi}\\right|_{\\substack{ \\xi=x }}= \\frac{1}{h}\\left(\\frac{\\delta_{h}}{2}-\\frac{1}{6}\\left(\\frac{\\delta_{h}}{2}\\right)^3+ \\frac{3}{40}\\left(\\frac{\\delta_{h}}{2}\\right)^5 - \\frac{5}{112}\\left(\\frac{\\delta_{h}}{2}\\right)^7+\\dots\\right)$$"
   ]
  }
 ],
 "metadata": {
  "kernelspec": {
   "display_name": "Julia 0.6.0",
   "language": "julia",
   "name": "julia-0.6"
  },
  "language_info": {
   "file_extension": ".jl",
   "mimetype": "application/julia",
   "name": "julia",
   "version": "0.6.0"
  }
 },
 "nbformat": 4,
 "nbformat_minor": 2
}
